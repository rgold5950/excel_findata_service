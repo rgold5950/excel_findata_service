{
 "cells": [
  {
   "cell_type": "code",
   "execution_count": 31,
   "metadata": {},
   "outputs": [
    {
     "name": "stdout",
     "output_type": "stream",
     "text": [
      "{'openapi': '3.1.0', 'info': {'title': 'FastAPI', 'version': '0.1.0'}, 'paths': {'/': {'get': {'summary': 'Welcome', 'operationId': 'welcome__get', 'responses': {'200': {'description': 'Successful Response', 'content': {'application/json': {'schema': {}}}}}}}, '/tickers': {'get': {'summary': 'Get Tickers', 'operationId': 'get_tickers_tickers_get', 'responses': {'200': {'description': 'Successful Response', 'content': {'application/json': {'schema': {}}}}}}}, '/returns/{ticker}/{start_date}/{end_date}': {'get': {'summary': 'Get Returns', 'operationId': 'get_returns_returns__ticker___start_date___end_date__get', 'parameters': [{'name': 'start_date', 'in': 'path', 'required': True, 'schema': {'type': 'string', 'title': 'Start Date'}}, {'name': 'end_date', 'in': 'path', 'required': True, 'schema': {'type': 'string', 'title': 'End Date'}}, {'name': 'ticker', 'in': 'path', 'required': True, 'schema': {'type': 'string', 'title': 'Ticker'}}], 'responses': {'200': {'description': 'Successful Response', 'content': {'application/json': {'schema': {}}}}, '422': {'description': 'Validation Error', 'content': {'application/json': {'schema': {'$ref': '#/components/schemas/HTTPValidationError'}}}}}}}, '/correlation/{ticker1}/{ticker2}/{start_date}/{end_date}': {'get': {'summary': 'Get Correlation', 'operationId': 'get_correlation_correlation__ticker1___ticker2___start_date___end_date__get', 'parameters': [{'name': 'ticker1', 'in': 'path', 'required': True, 'schema': {'type': 'string', 'title': 'Ticker1'}}, {'name': 'ticker2', 'in': 'path', 'required': True, 'schema': {'type': 'string', 'title': 'Ticker2'}}, {'name': 'start_date', 'in': 'path', 'required': True, 'schema': {'type': 'string', 'title': 'Start Date'}}, {'name': 'end_date', 'in': 'path', 'required': True, 'schema': {'type': 'string', 'title': 'End Date'}}], 'responses': {'200': {'description': 'Successful Response', 'content': {'application/json': {'schema': {}}}}, '422': {'description': 'Validation Error', 'content': {'application/json': {'schema': {'$ref': '#/components/schemas/HTTPValidationError'}}}}}}}, '/correlation_matrix/': {'post': {'summary': 'Post Correlation Matrix', 'operationId': 'post_correlation_matrix_correlation_matrix__post', 'requestBody': {'content': {'application/json': {'schema': {'$ref': '#/components/schemas/CorrelationMatrixParams'}}}, 'required': True}, 'responses': {'200': {'description': 'Successful Response', 'content': {'application/json': {'schema': {}}}}, '422': {'description': 'Validation Error', 'content': {'application/json': {'schema': {'$ref': '#/components/schemas/HTTPValidationError'}}}}}}}, '/goldman/': {'get': {'summary': 'Goldman', 'operationId': 'goldman_goldman__get', 'responses': {'200': {'description': 'Successful Response', 'content': {'application/json': {'schema': {}}}}}}}, '/changesalot': {'get': {'summary': 'Thisonechangesalot', 'operationId': 'thisonechangesalot_changesalot_get', 'parameters': [{'name': 'some_param', 'in': 'query', 'required': True, 'schema': {'type': 'string', 'title': 'Some Param'}}, {'name': 'another_param', 'in': 'query', 'required': True, 'schema': {'type': 'string', 'title': 'Another Param'}}], 'responses': {'200': {'description': 'Successful Response', 'content': {'application/json': {'schema': {}}}}, '422': {'description': 'Validation Error', 'content': {'application/json': {'schema': {'$ref': '#/components/schemas/HTTPValidationError'}}}}}}}, '/functions.json': {'get': {'summary': 'Get Functions', 'operationId': 'get_functions_functions_json_get', 'responses': {'200': {'description': 'Successful Response', 'content': {'application/json': {'schema': {}}}}}}}}, 'components': {'schemas': {'CorrelationMatrixParams': {'properties': {'tickers': {'items': {'$ref': '#/components/schemas/TickerParam'}, 'type': 'array', 'title': 'Tickers', 'default': []}, 'start_date': {'type': 'string', 'title': 'Start Date'}, 'end_date': {'type': 'string', 'title': 'End Date'}}, 'type': 'object', 'required': ['start_date', 'end_date'], 'title': 'CorrelationMatrixParams'}, 'HTTPValidationError': {'properties': {'detail': {'items': {'$ref': '#/components/schemas/ValidationError'}, 'type': 'array', 'title': 'Detail'}}, 'type': 'object', 'title': 'HTTPValidationError'}, 'TickerParam': {'properties': {'ticker': {'type': 'string', 'title': 'Ticker'}}, 'type': 'object', 'required': ['ticker'], 'title': 'TickerParam'}, 'ValidationError': {'properties': {'loc': {'items': {'anyOf': [{'type': 'string'}, {'type': 'integer'}]}, 'type': 'array', 'title': 'Location'}, 'msg': {'type': 'string', 'title': 'Message'}, 'type': {'type': 'string', 'title': 'Error Type'}}, 'type': 'object', 'required': ['loc', 'msg', 'type'], 'title': 'ValidationError'}}}}\n"
     ]
    },
    {
     "name": "stderr",
     "output_type": "stream",
     "text": [
      "/Users/richardgoldman/opt/anaconda3/envs/finapi/lib/python3.11/site-packages/urllib3/connectionpool.py:1099: InsecureRequestWarning: Unverified HTTPS request is being made to host 'localhost'. Adding certificate verification is strongly advised. See: https://urllib3.readthedocs.io/en/latest/advanced-usage.html#tls-warnings\n",
      "  warnings.warn(\n"
     ]
    }
   ],
   "source": [
    "import requests\n",
    "\n",
    "res = requests.get(\"https://localhost:8000/openapi.json\", verify=False)\n",
    "print(res.json())"
   ]
  },
  {
   "cell_type": "code",
   "execution_count": 32,
   "metadata": {},
   "outputs": [
    {
     "name": "stdout",
     "output_type": "stream",
     "text": [
      "[{'endpoint': '/', 'method': 'get', 'path_parameters': [], 'query_parameters': [], 'body_parameters': []}, {'endpoint': '/tickers', 'method': 'get', 'path_parameters': [], 'query_parameters': [], 'body_parameters': []}, {'endpoint': '/returns/{ticker}/{start_date}/{end_date}', 'method': 'get', 'path_parameters': [{'name': 'start_date', 'required': ['required']}, {'name': 'end_date', 'required': ['required']}, {'name': 'ticker', 'required': ['required']}], 'query_parameters': [], 'body_parameters': []}, {'endpoint': '/correlation/{ticker1}/{ticker2}/{start_date}/{end_date}', 'method': 'get', 'path_parameters': [{'name': 'ticker1', 'required': ['required']}, {'name': 'ticker2', 'required': ['required']}, {'name': 'start_date', 'required': ['required']}, {'name': 'end_date', 'required': ['required']}], 'query_parameters': [], 'body_parameters': []}, {'endpoint': '/correlation_matrix/', 'method': 'post', 'path_parameters': [], 'query_parameters': [], 'body_parameters': [{'name': 'tickers', 'required': True}, {'name': 'start_date', 'required': True}, {'name': 'end_date', 'required': True}]}, {'endpoint': '/goldman/', 'method': 'get', 'path_parameters': [], 'query_parameters': [], 'body_parameters': []}, {'endpoint': '/changesalot', 'method': 'get', 'path_parameters': [], 'query_parameters': [{'name': 'some_param', 'required': ['required']}, {'name': 'another_param', 'required': ['required']}], 'body_parameters': []}, {'endpoint': '/functions.json', 'method': 'get', 'path_parameters': [], 'query_parameters': [], 'body_parameters': []}]\n"
     ]
    }
   ],
   "source": [
    "\"\"\"\n",
    "Things we need to return:\n",
    "1) endpoint\n",
    "2) request method (GET, POST, PUT, etc.)\n",
    "3)  a) for GET methods:\n",
    "        - a dictionary of parameters\n",
    "    b) for POST methods:\n",
    "        - a dictionary representing the body of the request\n",
    "\"\"\"\n",
    "r = res.json()\n",
    "output = []\n",
    "for path, value in r['paths'].items():\n",
    "    for method, info in value.items():\n",
    "        item = {}\n",
    "        item['endpoint'] = path\n",
    "        item['method'] = method\n",
    "        item['path_parameters'] = [{'name': p['name'], 'required': ['required']} for p in info.get('parameters',[]) if p['in'] == 'path']\n",
    "        item['query_parameters'] = [{'name': p['name'], 'required': ['required']} for p in info.get('parameters',[]) if p['in'] == 'query']\n",
    "        # Parse body parameters\n",
    "        body_parameters = []\n",
    "        if 'requestBody' in info:\n",
    "            request_body = info['requestBody']\n",
    "            if 'content' in request_body:\n",
    "                for content_type, content_info in request_body['content'].items():\n",
    "                    if 'schema' in content_info:\n",
    "                        schema = content_info['schema']\n",
    "                        if '$ref' in schema:\n",
    "                            ref = schema['$ref']\n",
    "                            # Resolve the reference if needed (this example assumes direct schema)\n",
    "                            ref_name = ref.split('/')[-1]\n",
    "                            body_parameters = [{'name': k, 'required': True} for k, v in r['components']['schemas'][ref_name]['properties'].items()]\n",
    "                        elif 'properties' in schema:\n",
    "                            body_parameters = [{'name': k, 'required': schema['required'] if 'required' in schema and k in schema['required'] else False} for k, v in schema['properties'].items()]\n",
    "\n",
    "        item['body_parameters'] = body_parameters\n",
    "        output.append(item)\n",
    "    \n",
    "print(output)"
   ]
  },
  {
   "cell_type": "code",
   "execution_count": 22,
   "metadata": {},
   "outputs": [
    {
     "data": {
      "text/plain": [
       "dict_keys(['/', '/tickers', '/returns/{ticker}/{start_date}/{end_date}', '/correlation/{ticker1}/{ticker2}/{start_date}/{end_date}', '/correlation_matrix/', '/goldman/', '/functions.json'])"
      ]
     },
     "execution_count": 22,
     "metadata": {},
     "output_type": "execute_result"
    }
   ],
   "source": [
    "r['paths'].keys()"
   ]
  },
  {
   "cell_type": "code",
   "execution_count": null,
   "metadata": {},
   "outputs": [],
   "source": []
  }
 ],
 "metadata": {
  "interpreter": {
   "hash": "21357724e8ce8c7facd2e5398a6b98ea8fcbf7d5cdd4e59069696b600fb71d64"
  },
  "kernelspec": {
   "display_name": "Python 3.11.7 64-bit ('finapi': conda)",
   "language": "python",
   "name": "python3"
  },
  "language_info": {
   "codemirror_mode": {
    "name": "ipython",
    "version": 3
   },
   "file_extension": ".py",
   "mimetype": "text/x-python",
   "name": "python",
   "nbconvert_exporter": "python",
   "pygments_lexer": "ipython3",
   "version": "3.11.7"
  },
  "orig_nbformat": 4
 },
 "nbformat": 4,
 "nbformat_minor": 2
}
